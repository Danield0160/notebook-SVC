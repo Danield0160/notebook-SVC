{
 "cells": [
  {
   "cell_type": "markdown",
   "metadata": {},
   "source": [
    "# imports"
   ]
  },
  {
   "cell_type": "code",
   "execution_count": 32,
   "metadata": {},
   "outputs": [
    {
     "name": "stdout",
     "output_type": "stream",
     "text": [
      "Requirement already satisfied: librosa in /usr/local/lib/python3.8/dist-packages (0.10.2.post1)\n",
      "Requirement already satisfied: decorator>=4.3.0 in /usr/local/lib/python3.8/dist-packages (from librosa) (5.1.1)\n",
      "Requirement already satisfied: soundfile>=0.12.1 in /usr/local/lib/python3.8/dist-packages (from librosa) (0.12.1)\n",
      "Requirement already satisfied: soxr>=0.3.2 in /usr/local/lib/python3.8/dist-packages (from librosa) (0.3.7)\n",
      "Requirement already satisfied: pooch>=1.1 in /usr/local/lib/python3.8/dist-packages (from librosa) (1.8.2)\n",
      "Requirement already satisfied: lazy-loader>=0.1 in /usr/local/lib/python3.8/dist-packages (from librosa) (0.3)\n",
      "Requirement already satisfied: numba>=0.51.0 in /usr/local/lib/python3.8/dist-packages (from librosa) (0.56.4+0.g288a38bbd.dirty)\n",
      "Requirement already satisfied: audioread>=2.1.9 in /usr/local/lib/python3.8/dist-packages (from librosa) (3.0.1)\n",
      "Requirement already satisfied: scipy>=1.2.0 in /usr/local/lib/python3.8/dist-packages (from librosa) (1.10.1)\n",
      "Requirement already satisfied: scikit-learn>=0.20.0 in /usr/local/lib/python3.8/dist-packages (from librosa) (1.3.0)\n",
      "Requirement already satisfied: msgpack>=1.0 in /usr/local/lib/python3.8/dist-packages (from librosa) (1.0.4)\n",
      "Requirement already satisfied: numpy!=1.22.0,!=1.22.1,!=1.22.2,>=1.20.3 in /usr/local/lib/python3.8/dist-packages (from librosa) (1.23.5)\n",
      "Requirement already satisfied: joblib>=0.14 in /usr/local/lib/python3.8/dist-packages (from librosa) (1.2.0)\n",
      "Requirement already satisfied: typing-extensions>=4.1.1 in /usr/local/lib/python3.8/dist-packages (from librosa) (4.12.2)\n",
      "Requirement already satisfied: setuptools in /usr/local/lib/python3.8/dist-packages (from numba>=0.51.0->librosa) (65.6.3)\n",
      "Requirement already satisfied: importlib-metadata in /usr/local/lib/python3.8/dist-packages (from numba>=0.51.0->librosa) (5.1.0)\n",
      "Requirement already satisfied: llvmlite<0.40,>=0.39.0dev0 in /usr/local/lib/python3.8/dist-packages (from numba>=0.51.0->librosa) (0.39.0rc1)\n",
      "Requirement already satisfied: requests>=2.19.0 in /usr/local/lib/python3.8/dist-packages (from pooch>=1.1->librosa) (2.31.0)\n",
      "Requirement already satisfied: platformdirs>=2.5.0 in /usr/local/lib/python3.8/dist-packages (from pooch>=1.1->librosa) (2.6.0)\n",
      "Requirement already satisfied: packaging>=20.0 in /usr/local/lib/python3.8/dist-packages (from pooch>=1.1->librosa) (22.0)\n",
      "Requirement already satisfied: threadpoolctl>=2.0.0 in /usr/local/lib/python3.8/dist-packages (from scikit-learn>=0.20.0->librosa) (3.1.0)\n",
      "Requirement already satisfied: cffi>=1.0 in /usr/local/lib/python3.8/dist-packages (from soundfile>=0.12.1->librosa) (1.15.1)\n",
      "Requirement already satisfied: pycparser in /usr/local/lib/python3.8/dist-packages (from cffi>=1.0->soundfile>=0.12.1->librosa) (2.21)\n",
      "Requirement already satisfied: urllib3<3,>=1.21.1 in /usr/local/lib/python3.8/dist-packages (from requests>=2.19.0->pooch>=1.1->librosa) (1.26.13)\n",
      "Requirement already satisfied: charset-normalizer<4,>=2 in /usr/local/lib/python3.8/dist-packages (from requests>=2.19.0->pooch>=1.1->librosa) (2.1.1)\n",
      "Requirement already satisfied: idna<4,>=2.5 in /usr/local/lib/python3.8/dist-packages (from requests>=2.19.0->pooch>=1.1->librosa) (3.4)\n",
      "Requirement already satisfied: certifi>=2017.4.17 in /usr/local/lib/python3.8/dist-packages (from requests>=2.19.0->pooch>=1.1->librosa) (2022.12.7)\n",
      "Requirement already satisfied: zipp>=0.5 in /usr/local/lib/python3.8/dist-packages (from importlib-metadata->numba>=0.51.0->librosa) (3.11.0)\n",
      "\u001b[33mWARNING: Running pip as the 'root' user can result in broken permissions and conflicting behaviour with the system package manager. It is recommended to use a virtual environment instead: https://pip.pypa.io/warnings/venv\u001b[0m\u001b[33m\n",
      "\u001b[0mNote: you may need to restart the kernel to use updated packages.\n",
      "Requirement already satisfied: kagglehub in /usr/local/lib/python3.8/dist-packages (0.2.9)\n",
      "Requirement already satisfied: packaging in /usr/local/lib/python3.8/dist-packages (from kagglehub) (22.0)\n",
      "Requirement already satisfied: tqdm in /usr/local/lib/python3.8/dist-packages (from kagglehub) (4.65.0)\n",
      "Requirement already satisfied: requests in /usr/local/lib/python3.8/dist-packages (from kagglehub) (2.31.0)\n",
      "Requirement already satisfied: charset-normalizer<4,>=2 in /usr/local/lib/python3.8/dist-packages (from requests->kagglehub) (2.1.1)\n",
      "Requirement already satisfied: urllib3<3,>=1.21.1 in /usr/local/lib/python3.8/dist-packages (from requests->kagglehub) (1.26.13)\n",
      "Requirement already satisfied: idna<4,>=2.5 in /usr/local/lib/python3.8/dist-packages (from requests->kagglehub) (3.4)\n",
      "Requirement already satisfied: certifi>=2017.4.17 in /usr/local/lib/python3.8/dist-packages (from requests->kagglehub) (2022.12.7)\n",
      "\u001b[33mWARNING: Running pip as the 'root' user can result in broken permissions and conflicting behaviour with the system package manager. It is recommended to use a virtual environment instead: https://pip.pypa.io/warnings/venv\u001b[0m\u001b[33m\n",
      "\u001b[0mNote: you may need to restart the kernel to use updated packages.\n"
     ]
    }
   ],
   "source": [
    "%pip install librosa\n",
    "%pip install kagglehub"
   ]
  },
  {
   "cell_type": "code",
   "execution_count": 33,
   "metadata": {},
   "outputs": [],
   "source": [
    "%reset -f"
   ]
  },
  {
   "cell_type": "code",
   "execution_count": 34,
   "metadata": {},
   "outputs": [],
   "source": [
    "import os\n",
    "import librosa\n",
    "import numpy as np\n",
    "import pandas as pd\n",
    "from sklearn.model_selection import train_test_split\n",
    "from sklearn.svm import SVC\n",
    "from sklearn.metrics import classification_report, accuracy_score\n",
    "import matplotlib.pyplot as plt\n",
    "import kagglehub"
   ]
  },
  {
   "cell_type": "code",
   "execution_count": 35,
   "metadata": {},
   "outputs": [],
   "source": [
    "# Rutas\n",
    "DATASET_PATH = \"./data/\"\n",
    "LOGS_PATH = \"./logs/fit/\"\n",
    "MODELS_PATH = \"./models/\""
   ]
  },
  {
   "cell_type": "code",
   "execution_count": 36,
   "metadata": {},
   "outputs": [],
   "source": [
    "# Función para extraer características\n",
    "def extract_features(file_path):\n",
    "    try:\n",
    "        # Carga del archivo de audio\n",
    "        audio, sr = librosa.load(file_path, mono=True, duration=30)\n",
    "        \n",
    "        # Extracción de características\n",
    "        mfccs = librosa.feature.mfcc(y=audio, sr=sr, n_mfcc=13)\n",
    "        mfccs_mean = np.mean(mfccs.T, axis=0)\n",
    "        \n",
    "        chroma = librosa.feature.chroma_stft(y=audio, sr=sr)\n",
    "        chroma_mean = np.mean(chroma.T, axis=0)\n",
    "        \n",
    "        spectral_contrast = librosa.feature.spectral_contrast(y=audio, sr=sr)\n",
    "        spectral_mean = np.mean(spectral_contrast.T, axis=0)\n",
    "        \n",
    "        # Combinar todas las características\n",
    "        features = np.hstack([mfccs_mean, chroma_mean, spectral_mean])\n",
    "        return features\n",
    "    except Exception as e:\n",
    "        print(f\"Error procesando {file_path}: {e}\")\n",
    "        return None"
   ]
  },
  {
   "cell_type": "code",
   "execution_count": 37,
   "metadata": {},
   "outputs": [],
   "source": [
    "# Crear dataset\n",
    "def prepare_dataset(dataset_path):\n",
    "    data = []\n",
    "    labels = []\n",
    "    genres = os.listdir(dataset_path)\n",
    "    \n",
    "    for genre in genres:\n",
    "        genre_path = os.path.join(dataset_path, genre)\n",
    "        if not os.path.isdir(genre_path):\n",
    "            continue\n",
    "        \n",
    "        for file in os.listdir(genre_path):\n",
    "            file_path = os.path.join(genre_path, file)\n",
    "            features = extract_features(file_path)\n",
    "            if features is not None:\n",
    "                data.append(features)\n",
    "                labels.append(genre)\n",
    "    \n",
    "    return np.array(data), np.array(labels)"
   ]
  },
  {
   "cell_type": "code",
   "execution_count": 38,
   "metadata": {},
   "outputs": [],
   "source": [
    "# Entrenamiento del modelo\n",
    "def train_model(X, y):\n",
    "    # División del dataset\n",
    "    X_train, X_test, y_train, y_test = train_test_split(X, y, test_size=0.2, random_state=42)\n",
    "    \n",
    "    # Entrenamiento de SVM\n",
    "    svm = SVC(kernel='rbf', C=10, gamma=0.1,probability=True)\n",
    "    svm.fit(X_train, y_train)\n",
    "    \n",
    "    # Evaluación\n",
    "    y_pred = svm.predict(X_test)\n",
    "    print(\"Reporte de clasificación:\")\n",
    "    print(classification_report(y_test, y_pred))\n",
    "    print(f\"Precisión: {accuracy_score(y_test, y_pred) * 100:.2f}%\")\n",
    "    \n",
    "    return svm"
   ]
  },
  {
   "cell_type": "code",
   "execution_count": 39,
   "metadata": {},
   "outputs": [],
   "source": [
    "# Visualización\n",
    "def plot_features_distribution(features, labels, genres):\n",
    "    plt.figure(figsize=(12, 6))\n",
    "    for i, genre in enumerate(genres):\n",
    "        plt.scatter(features[labels == genre, 0], features[labels == genre, 1], label=genre)\n",
    "    plt.title(\"Distribución de características\")\n",
    "    plt.xlabel(\"Primera característica\")\n",
    "    plt.ylabel(\"Segunda característica\")\n",
    "    plt.legend()\n",
    "    plt.show()"
   ]
  },
  {
   "cell_type": "code",
   "execution_count": 40,
   "metadata": {},
   "outputs": [
    {
     "name": "stdout",
     "output_type": "stream",
     "text": [
      "Preparando dataset...\n"
     ]
    },
    {
     "name": "stderr",
     "output_type": "stream",
     "text": [
      "/tmp/ipykernel_27/3250408172.py:5: UserWarning: PySoundFile failed. Trying audioread instead.\n",
      "  audio, sr = librosa.load(file_path, mono=True, duration=30)\n",
      "/usr/local/lib/python3.8/dist-packages/librosa/core/audio.py:184: FutureWarning: librosa.core.audio.__audioread_load\n",
      "\tDeprecated as of librosa version 0.10.0.\n",
      "\tIt will be removed in librosa version 1.0.\n",
      "  y, sr_native = __audioread_load(path, offset, duration, dtype)\n"
     ]
    },
    {
     "name": "stdout",
     "output_type": "stream",
     "text": [
      "Error procesando ./data/genres_original/jazz/jazz.00054.wav: \n",
      "Clases detectadas: ['blues' 'classical' 'country' 'disco' 'hiphop' 'jazz' 'metal' 'pop'\n",
      " 'reggae' 'rock']\n",
      "Entrenando modelo...\n",
      "Reporte de clasificación:\n",
      "              precision    recall  f1-score   support\n",
      "\n",
      "       blues       0.00      0.00      0.00        21\n",
      "   classical       0.06      1.00      0.12        12\n",
      "     country       0.00      0.00      0.00        24\n",
      "       disco       1.00      0.05      0.09        22\n",
      "      hiphop       0.00      0.00      0.00        15\n",
      "        jazz       0.00      0.00      0.00        27\n",
      "       metal       0.67      0.11      0.19        18\n",
      "         pop       1.00      0.05      0.10        19\n",
      "      reggae       1.00      0.09      0.17        22\n",
      "        rock       0.00      0.00      0.00        20\n",
      "\n",
      "    accuracy                           0.09       200\n",
      "   macro avg       0.37      0.13      0.07       200\n",
      "weighted avg       0.38      0.09      0.06       200\n",
      "\n",
      "Precisión: 9.00%\n",
      "Modelo guardado como 'genre_classifier_svm.pkl'.\n"
     ]
    },
    {
     "name": "stderr",
     "output_type": "stream",
     "text": [
      "/usr/local/lib/python3.8/dist-packages/sklearn/metrics/_classification.py:1469: UndefinedMetricWarning: Precision and F-score are ill-defined and being set to 0.0 in labels with no predicted samples. Use `zero_division` parameter to control this behavior.\n",
      "  _warn_prf(average, modifier, msg_start, len(result))\n",
      "/usr/local/lib/python3.8/dist-packages/sklearn/metrics/_classification.py:1469: UndefinedMetricWarning: Precision and F-score are ill-defined and being set to 0.0 in labels with no predicted samples. Use `zero_division` parameter to control this behavior.\n",
      "  _warn_prf(average, modifier, msg_start, len(result))\n",
      "/usr/local/lib/python3.8/dist-packages/sklearn/metrics/_classification.py:1469: UndefinedMetricWarning: Precision and F-score are ill-defined and being set to 0.0 in labels with no predicted samples. Use `zero_division` parameter to control this behavior.\n",
      "  _warn_prf(average, modifier, msg_start, len(result))\n"
     ]
    }
   ],
   "source": [
    "print(\"Preparando dataset...\")\n",
    "X, y = prepare_dataset(os.path.join(DATASET_PATH,\"genres_original\"))\n",
    "\n",
    "# Verificar clases\n",
    "unique_classes = np.unique(y)\n",
    "print(f\"Clases detectadas: {unique_classes}\")\n",
    "\n",
    "print(\"Entrenando modelo...\")\n",
    "model = train_model(X, y)\n",
    "\n",
    "# (Opcional) Guardar el modelo entrenado\n",
    "import joblib\n",
    "joblib.dump(model, \"genre_classifier_svm.pkl\")\n",
    "print(\"Modelo guardado como 'genre_classifier_svm.pkl'.\")"
   ]
  },
  {
   "cell_type": "code",
   "execution_count": 70,
   "metadata": {},
   "outputs": [
    {
     "data": {
      "text/plain": [
       "[['blues', 0.008885057507796001],\n",
       " ['blues', 0.008885219787507],\n",
       " ['blues', 0.008884457745351139],\n",
       " ['blues', 0.0088850216113248],\n",
       " ['blues', 0.008885251327690927],\n",
       " ['blues', 0.008884445075106544],\n",
       " ['blues', 0.008886393627319503],\n",
       " ['blues', 0.008885593801444724],\n",
       " ['blues', 0.008883746741306316],\n",
       " ['blues', 0.00888567556436225],\n",
       " ['pop', 0.09118993306597137],\n",
       " ['blues', 0.008883872973288886],\n",
       " ['blues', 0.00888512725005602],\n",
       " ['blues', 0.008884779357781843],\n",
       " ['blues', 0.008885451124826175],\n",
       " ['blues', 0.008885338980831813],\n",
       " ['blues', 0.008885608000541969],\n",
       " ['blues', 0.008885974216652437],\n",
       " ['blues', 0.008885007179421738],\n",
       " ['blues', 0.008882858054307973],\n",
       " ['blues', 0.008883889879637567],\n",
       " ['blues', 0.008884378861130509],\n",
       " ['blues', 0.008883871047483094],\n",
       " ['pop', 0.09118993306597137],\n",
       " ['blues', 0.008884983002205152],\n",
       " ['pop', 0.09118993306597137],\n",
       " ['blues', 0.008884269847324308],\n",
       " ['blues', 0.008885316895148638],\n",
       " ['blues', 0.008886449733380677],\n",
       " ['pop', 0.09118993306597137],\n",
       " ['pop', 0.09118993306597124],\n",
       " ['blues', 0.008884860349101596],\n",
       " ['blues', 0.008885626629893355],\n",
       " ['blues', 0.008886195538694984],\n",
       " ['blues', 0.008886372157822831],\n",
       " ['blues', 0.008885850476457471],\n",
       " ['blues', 0.00888631993531596],\n",
       " ['blues', 0.00888420340874356],\n",
       " ['blues', 0.008884899018164798],\n",
       " ['pop', 0.09118993306597137],\n",
       " ['blues', 0.008885004507425848],\n",
       " ['blues', 0.008885333119821424],\n",
       " ['blues', 0.008883804327940366],\n",
       " ['blues', 0.00888629698375219],\n",
       " ['pop', 0.09118993304797313],\n",
       " ['blues', 0.008885045239435408],\n",
       " ['blues', 0.008884884107002368],\n",
       " ['blues', 0.008885148296744748],\n",
       " ['blues', 0.008885426738270577],\n",
       " ['blues', 0.008886151103996622],\n",
       " ['blues', 0.008886012490887787],\n",
       " ['blues', 0.008884983340996369],\n",
       " ['blues', 0.008885383912562465],\n",
       " ['blues', 0.008885316505216562],\n",
       " ['pop', 0.09118993306596512],\n",
       " ['pop', 0.09118993306583881],\n",
       " ['blues', 0.008885248128008894],\n",
       " ['blues', 0.008885941139210167],\n",
       " ['blues', 0.008882793366520083],\n",
       " ['pop', 0.09118993306597138],\n",
       " ['pop', 0.09118993306597137],\n",
       " ['blues', 0.008885383554792852],\n",
       " ['blues', 0.008885588700117696],\n",
       " ['pop', 0.09118993306597128],\n",
       " ['blues', 0.00888410738455413],\n",
       " ['blues', 0.008885360591728007],\n",
       " ['pop', 0.09118993306597135],\n",
       " ['pop', 0.09118993301237831],\n",
       " ['blues', 0.008883369673135818],\n",
       " ['blues', 0.008886183884273985],\n",
       " ['pop', 0.09118993306597137],\n",
       " ['blues', 0.008883447986823743],\n",
       " ['pop', 0.09118993306597137],\n",
       " ['blues', 0.008885260371205529],\n",
       " ['blues', 0.008885183515716193],\n",
       " ['blues', 0.008884474629566324],\n",
       " ['pop', 0.09118993306597137],\n",
       " ['blues', 0.008884649883232263],\n",
       " ['pop', 0.09118993306574473],\n",
       " ['blues', 0.008884962049256238],\n",
       " ['blues', 0.00888358259830788],\n",
       " ['blues', 0.008886147287957974],\n",
       " ['blues', 0.008883838112321555],\n",
       " ['blues', 0.008884977809177966],\n",
       " ['blues', 0.008883410986569903],\n",
       " ['blues', 0.00888618370457655],\n",
       " ['pop', 0.09118993306597137],\n",
       " ['blues', 0.00888518401201871],\n",
       " ['pop', 0.09118993306597137],\n",
       " ['blues', 0.008884789424186969],\n",
       " ['blues', 0.008886255725179868],\n",
       " ['blues', 0.00888424447213808],\n",
       " ['blues', 0.008885127098212294],\n",
       " ['blues', 0.008883897689707073],\n",
       " ['blues', 0.008884254172842235],\n",
       " ['blues', 0.00888524234958862],\n",
       " ['pop', 0.09118993306597137],\n",
       " ['blues', 0.008884399942790524],\n",
       " ['blues', 0.008882817802978383],\n",
       " ['blues', 0.008886297396427165]]"
      ]
     },
     "execution_count": 70,
     "metadata": {},
     "output_type": "execute_result"
    }
   ],
   "source": [
    "file_path = \"./data/genres_original/blues/\"\n",
    "results = []\n",
    "for file in os.listdir(file_path):\n",
    "    result = model.predict_proba(extract_features(file_path+file).reshape(1, -1))[0]\n",
    "    clase = model.classes_[np.argmin(result)]\n",
    "    prob = result[np.argmin(result)]\n",
    "    results.append([clase,prob])\n",
    "results\n"
   ]
  }
 ],
 "metadata": {
  "kernelspec": {
   "display_name": "Python 3 (ipykernel)",
   "language": "python",
   "name": "python3"
  },
  "language_info": {
   "codemirror_mode": {
    "name": "ipython",
    "version": 3
   },
   "file_extension": ".py",
   "mimetype": "text/x-python",
   "name": "python",
   "nbconvert_exporter": "python",
   "pygments_lexer": "ipython3",
   "version": "3.8.10"
  }
 },
 "nbformat": 4,
 "nbformat_minor": 2
}
